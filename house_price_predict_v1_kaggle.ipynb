{
  "nbformat": 4,
  "nbformat_minor": 0,
  "metadata": {
    "colab": {
      "name": "house price predict_v1 - kaggle.ipynb",
      "version": "0.3.2",
      "provenance": [],
      "collapsed_sections": [],
      "include_colab_link": true
    },
    "kernelspec": {
      "name": "python3",
      "display_name": "Python 3"
    },
    "accelerator": "GPU"
  },
  "cells": [
    {
      "cell_type": "markdown",
      "metadata": {
        "id": "view-in-github",
        "colab_type": "text"
      },
      "source": [
        "<a href=\"https://colab.research.google.com/github/hasanulkarim/kaggle---house-price-prediction/blob/master/house_price_predict_v1_kaggle.ipynb\" target=\"_parent\"><img src=\"https://colab.research.google.com/assets/colab-badge.svg\" alt=\"Open In Colab\"/></a>"
      ]
    },
    {
      "cell_type": "code",
      "metadata": {
        "id": "hnaWDANulr7E",
        "colab_type": "code",
        "outputId": "2d686c27-c2fe-4b3c-925e-2cefef53c88e",
        "colab": {
          "base_uri": "https://localhost:8080/",
          "height": 34
        }
      },
      "source": [
        "import pandas as pd\n",
        "\n",
        "! git clone https://github.com/hasanulkarim/kaggle---house-price-prediction.git"
      ],
      "execution_count": 0,
      "outputs": [
        {
          "output_type": "stream",
          "text": [
            "fatal: destination path 'kaggle---house-price-prediction' already exists and is not an empty directory.\n"
          ],
          "name": "stdout"
        }
      ]
    },
    {
      "cell_type": "code",
      "metadata": {
        "id": "rexiWmcmnnaG",
        "colab_type": "code",
        "outputId": "0811b0ef-d072-4fcb-8f14-60359617bb5a",
        "colab": {
          "base_uri": "https://localhost:8080/",
          "height": 52
        }
      },
      "source": [
        "!ls"
      ],
      "execution_count": 0,
      "outputs": [
        {
          "output_type": "stream",
          "text": [
            "data_description.txt\t\t sample_submission.csv\ttrain.csv\n",
            "kaggle---house-price-prediction  test.csv\n"
          ],
          "name": "stdout"
        }
      ]
    },
    {
      "cell_type": "code",
      "metadata": {
        "id": "nV5acs2bpkuQ",
        "colab_type": "code",
        "outputId": "7f158bd0-2af5-4437-d55e-6b0fe70d28f0",
        "colab": {
          "base_uri": "https://localhost:8080/",
          "height": 34
        }
      },
      "source": [
        "cd kaggle---house-price-prediction/"
      ],
      "execution_count": 0,
      "outputs": [
        {
          "output_type": "stream",
          "text": [
            "/content/kaggle---house-price-prediction/kaggle---house-price-prediction\n"
          ],
          "name": "stdout"
        }
      ]
    },
    {
      "cell_type": "code",
      "metadata": {
        "id": "CtO27XNpprPJ",
        "colab_type": "code",
        "colab": {}
      },
      "source": [
        "#!ls"
      ],
      "execution_count": 0,
      "outputs": []
    },
    {
      "cell_type": "code",
      "metadata": {
        "id": "qO5yGkV5psYD",
        "colab_type": "code",
        "outputId": "a44675f3-2964-4970-d443-5009ff4a34dd",
        "colab": {
          "base_uri": "https://localhost:8080/",
          "height": 247
        }
      },
      "source": [
        "train = pd.read_csv('train.csv')\n",
        "test = pd.read_csv('test.csv')\n",
        "train.tail()"
      ],
      "execution_count": 0,
      "outputs": [
        {
          "output_type": "execute_result",
          "data": {
            "text/html": [
              "<div>\n",
              "<style scoped>\n",
              "    .dataframe tbody tr th:only-of-type {\n",
              "        vertical-align: middle;\n",
              "    }\n",
              "\n",
              "    .dataframe tbody tr th {\n",
              "        vertical-align: top;\n",
              "    }\n",
              "\n",
              "    .dataframe thead th {\n",
              "        text-align: right;\n",
              "    }\n",
              "</style>\n",
              "<table border=\"1\" class=\"dataframe\">\n",
              "  <thead>\n",
              "    <tr style=\"text-align: right;\">\n",
              "      <th></th>\n",
              "      <th>Id</th>\n",
              "      <th>MSSubClass</th>\n",
              "      <th>MSZoning</th>\n",
              "      <th>LotFrontage</th>\n",
              "      <th>LotArea</th>\n",
              "      <th>Street</th>\n",
              "      <th>Alley</th>\n",
              "      <th>LotShape</th>\n",
              "      <th>LandContour</th>\n",
              "      <th>Utilities</th>\n",
              "      <th>...</th>\n",
              "      <th>PoolArea</th>\n",
              "      <th>PoolQC</th>\n",
              "      <th>Fence</th>\n",
              "      <th>MiscFeature</th>\n",
              "      <th>MiscVal</th>\n",
              "      <th>MoSold</th>\n",
              "      <th>YrSold</th>\n",
              "      <th>SaleType</th>\n",
              "      <th>SaleCondition</th>\n",
              "      <th>SalePrice</th>\n",
              "    </tr>\n",
              "  </thead>\n",
              "  <tbody>\n",
              "    <tr>\n",
              "      <th>1455</th>\n",
              "      <td>1456</td>\n",
              "      <td>60</td>\n",
              "      <td>RL</td>\n",
              "      <td>62.0</td>\n",
              "      <td>7917</td>\n",
              "      <td>Pave</td>\n",
              "      <td>NaN</td>\n",
              "      <td>Reg</td>\n",
              "      <td>Lvl</td>\n",
              "      <td>AllPub</td>\n",
              "      <td>...</td>\n",
              "      <td>0</td>\n",
              "      <td>NaN</td>\n",
              "      <td>NaN</td>\n",
              "      <td>NaN</td>\n",
              "      <td>0</td>\n",
              "      <td>8</td>\n",
              "      <td>2007</td>\n",
              "      <td>WD</td>\n",
              "      <td>Normal</td>\n",
              "      <td>175000</td>\n",
              "    </tr>\n",
              "    <tr>\n",
              "      <th>1456</th>\n",
              "      <td>1457</td>\n",
              "      <td>20</td>\n",
              "      <td>RL</td>\n",
              "      <td>85.0</td>\n",
              "      <td>13175</td>\n",
              "      <td>Pave</td>\n",
              "      <td>NaN</td>\n",
              "      <td>Reg</td>\n",
              "      <td>Lvl</td>\n",
              "      <td>AllPub</td>\n",
              "      <td>...</td>\n",
              "      <td>0</td>\n",
              "      <td>NaN</td>\n",
              "      <td>MnPrv</td>\n",
              "      <td>NaN</td>\n",
              "      <td>0</td>\n",
              "      <td>2</td>\n",
              "      <td>2010</td>\n",
              "      <td>WD</td>\n",
              "      <td>Normal</td>\n",
              "      <td>210000</td>\n",
              "    </tr>\n",
              "    <tr>\n",
              "      <th>1457</th>\n",
              "      <td>1458</td>\n",
              "      <td>70</td>\n",
              "      <td>RL</td>\n",
              "      <td>66.0</td>\n",
              "      <td>9042</td>\n",
              "      <td>Pave</td>\n",
              "      <td>NaN</td>\n",
              "      <td>Reg</td>\n",
              "      <td>Lvl</td>\n",
              "      <td>AllPub</td>\n",
              "      <td>...</td>\n",
              "      <td>0</td>\n",
              "      <td>NaN</td>\n",
              "      <td>GdPrv</td>\n",
              "      <td>Shed</td>\n",
              "      <td>2500</td>\n",
              "      <td>5</td>\n",
              "      <td>2010</td>\n",
              "      <td>WD</td>\n",
              "      <td>Normal</td>\n",
              "      <td>266500</td>\n",
              "    </tr>\n",
              "    <tr>\n",
              "      <th>1458</th>\n",
              "      <td>1459</td>\n",
              "      <td>20</td>\n",
              "      <td>RL</td>\n",
              "      <td>68.0</td>\n",
              "      <td>9717</td>\n",
              "      <td>Pave</td>\n",
              "      <td>NaN</td>\n",
              "      <td>Reg</td>\n",
              "      <td>Lvl</td>\n",
              "      <td>AllPub</td>\n",
              "      <td>...</td>\n",
              "      <td>0</td>\n",
              "      <td>NaN</td>\n",
              "      <td>NaN</td>\n",
              "      <td>NaN</td>\n",
              "      <td>0</td>\n",
              "      <td>4</td>\n",
              "      <td>2010</td>\n",
              "      <td>WD</td>\n",
              "      <td>Normal</td>\n",
              "      <td>142125</td>\n",
              "    </tr>\n",
              "    <tr>\n",
              "      <th>1459</th>\n",
              "      <td>1460</td>\n",
              "      <td>20</td>\n",
              "      <td>RL</td>\n",
              "      <td>75.0</td>\n",
              "      <td>9937</td>\n",
              "      <td>Pave</td>\n",
              "      <td>NaN</td>\n",
              "      <td>Reg</td>\n",
              "      <td>Lvl</td>\n",
              "      <td>AllPub</td>\n",
              "      <td>...</td>\n",
              "      <td>0</td>\n",
              "      <td>NaN</td>\n",
              "      <td>NaN</td>\n",
              "      <td>NaN</td>\n",
              "      <td>0</td>\n",
              "      <td>6</td>\n",
              "      <td>2008</td>\n",
              "      <td>WD</td>\n",
              "      <td>Normal</td>\n",
              "      <td>147500</td>\n",
              "    </tr>\n",
              "  </tbody>\n",
              "</table>\n",
              "<p>5 rows × 81 columns</p>\n",
              "</div>"
            ],
            "text/plain": [
              "        Id  MSSubClass MSZoning  LotFrontage  LotArea Street Alley LotShape  \\\n",
              "1455  1456          60       RL         62.0     7917   Pave   NaN      Reg   \n",
              "1456  1457          20       RL         85.0    13175   Pave   NaN      Reg   \n",
              "1457  1458          70       RL         66.0     9042   Pave   NaN      Reg   \n",
              "1458  1459          20       RL         68.0     9717   Pave   NaN      Reg   \n",
              "1459  1460          20       RL         75.0     9937   Pave   NaN      Reg   \n",
              "\n",
              "     LandContour Utilities  ... PoolArea PoolQC  Fence MiscFeature MiscVal  \\\n",
              "1455         Lvl    AllPub  ...        0    NaN    NaN         NaN       0   \n",
              "1456         Lvl    AllPub  ...        0    NaN  MnPrv         NaN       0   \n",
              "1457         Lvl    AllPub  ...        0    NaN  GdPrv        Shed    2500   \n",
              "1458         Lvl    AllPub  ...        0    NaN    NaN         NaN       0   \n",
              "1459         Lvl    AllPub  ...        0    NaN    NaN         NaN       0   \n",
              "\n",
              "     MoSold YrSold  SaleType  SaleCondition  SalePrice  \n",
              "1455      8   2007        WD         Normal     175000  \n",
              "1456      2   2010        WD         Normal     210000  \n",
              "1457      5   2010        WD         Normal     266500  \n",
              "1458      4   2010        WD         Normal     142125  \n",
              "1459      6   2008        WD         Normal     147500  \n",
              "\n",
              "[5 rows x 81 columns]"
            ]
          },
          "metadata": {
            "tags": []
          },
          "execution_count": 367
        }
      ]
    },
    {
      "cell_type": "markdown",
      "metadata": {
        "id": "EQRjPsgHxIXo",
        "colab_type": "text"
      },
      "source": [
        "**put train_X and test set together for ease of operation for the next few steps** "
      ]
    },
    {
      "cell_type": "code",
      "metadata": {
        "id": "gGBcNEd4r5AV",
        "colab_type": "code",
        "colab": {}
      },
      "source": [
        "train_test = [train,test]\n",
        "\n",
        "train_test = [dataset.drop(['PoolQC','MiscFeature', 'Alley', 'Fence', 'FireplaceQu'], axis =1) for dataset in train_test]\n"
      ],
      "execution_count": 0,
      "outputs": []
    },
    {
      "cell_type": "code",
      "metadata": {
        "id": "bufQ04Ubyb50",
        "colab_type": "code",
        "outputId": "e1f5b35a-09b6-47fe-8634-360c2692a972",
        "colab": {
          "base_uri": "https://localhost:8080/",
          "height": 34
        }
      },
      "source": [
        "#split out numerical and categorical columns into two for test and train_X table to apply one hot and imputer easily through pipeline\n",
        "num_attribs = list(test._get_numeric_data()) \n",
        "num_attribs = num_attribs[1:]\n",
        "\n",
        "len(num_attribs)"
      ],
      "execution_count": 0,
      "outputs": [
        {
          "output_type": "execute_result",
          "data": {
            "text/plain": [
              "36"
            ]
          },
          "metadata": {
            "tags": []
          },
          "execution_count": 369
        }
      ]
    },
    {
      "cell_type": "code",
      "metadata": {
        "id": "LSdQDpYrZiOa",
        "colab_type": "code",
        "outputId": "1943eccb-d803-463e-c703-ca1cf2cac3c3",
        "colab": {
          "base_uri": "https://localhost:8080/",
          "height": 34
        }
      },
      "source": [
        "#categorical attributes\n",
        "\n",
        "cat_attribs = list(train_test[1].select_dtypes(include='object')) #Doesnt really mater if you use train_test[0] instead\n",
        "len(cat_attribs)\n"
      ],
      "execution_count": 0,
      "outputs": [
        {
          "output_type": "execute_result",
          "data": {
            "text/plain": [
              "38"
            ]
          },
          "metadata": {
            "tags": []
          },
          "execution_count": 372
        }
      ]
    },
    {
      "cell_type": "code",
      "metadata": {
        "id": "uwXjm3FbuX2F",
        "colab_type": "code",
        "colab": {}
      },
      "source": [
        "train_cat_cats = [train_test[0][cat_attribs][i].value_counts() for i in cat_attribs]\n"
      ],
      "execution_count": 0,
      "outputs": []
    },
    {
      "cell_type": "code",
      "metadata": {
        "id": "hWCzH_8nN5GH",
        "colab_type": "code",
        "colab": {}
      },
      "source": [
        "test_cat_cats = [train_test[1][cat_attribs][i].value_counts() for i in cat_attribs]"
      ],
      "execution_count": 0,
      "outputs": []
    },
    {
      "cell_type": "code",
      "metadata": {
        "id": "c4XJPhpkVThj",
        "colab_type": "code",
        "outputId": "6eab008b-d891-47a3-9b9d-72130c6a46a9",
        "colab": {
          "base_uri": "https://localhost:8080/",
          "height": 168
        }
      },
      "source": [
        "z = [] # empty list, we will append all categorical columns where number of category is \n",
        "        #not equal between test and train\n",
        "for i in range(38):\n",
        "  y = len(train_cat_cats[i]) == len(test_cat_cats[i])\n",
        "  if y == False:\n",
        "    print(i,y,train_cat_cats[i].name)\n",
        "    z.append(train_cat_cats[i].name)"
      ],
      "execution_count": 0,
      "outputs": [
        {
          "output_type": "stream",
          "text": [
            "4 False Utilities\n",
            "9 False Condition2\n",
            "11 False HouseStyle\n",
            "13 False RoofMatl\n",
            "14 False Exterior1st\n",
            "15 False Exterior2nd\n",
            "25 False Heating\n",
            "28 False Electrical\n",
            "33 False GarageQual\n"
          ],
          "name": "stdout"
        }
      ]
    },
    {
      "cell_type": "code",
      "metadata": {
        "id": "C5NyKy38B4YY",
        "colab_type": "code",
        "colab": {}
      },
      "source": [
        ""
      ],
      "execution_count": 0,
      "outputs": []
    },
    {
      "cell_type": "code",
      "metadata": {
        "id": "zXW_OMHvZ0cA",
        "colab_type": "code",
        "colab": {}
      },
      "source": [
        "train_test = [dataset.drop(z, axis =1) for dataset in train_test]"
      ],
      "execution_count": 0,
      "outputs": []
    },
    {
      "cell_type": "code",
      "metadata": {
        "id": "oO-zxe4NxVC_",
        "colab_type": "code",
        "outputId": "486b6dcd-0f14-4a06-8b45-38ad6a31d32b",
        "colab": {
          "base_uri": "https://localhost:8080/",
          "height": 34
        }
      },
      "source": [
        "#sanity check\n",
        "\n",
        "train.shape, test.shape, train_test[0].shape, train_test[1].shape"
      ],
      "execution_count": 0,
      "outputs": [
        {
          "output_type": "execute_result",
          "data": {
            "text/plain": [
              "((1460, 81), (1459, 80), (1460, 67), (1459, 66))"
            ]
          },
          "metadata": {
            "tags": []
          },
          "execution_count": 381
        }
      ]
    },
    {
      "cell_type": "code",
      "metadata": {
        "id": "YG_iTqhqd61v",
        "colab_type": "code",
        "outputId": "4543affd-26b1-4ec8-9218-4ac75759ce26",
        "colab": {
          "base_uri": "https://localhost:8080/",
          "height": 34
        }
      },
      "source": [
        "#repeat and reassign the shorte cat list after dropping the mismatched columns\n",
        "cat_attribs = list(train_test[1].select_dtypes(include='object')) #Doesnt really mater if you use train_test[0] instead\n",
        "len(cat_attribs)"
      ],
      "execution_count": 0,
      "outputs": [
        {
          "output_type": "execute_result",
          "data": {
            "text/plain": [
              "29"
            ]
          },
          "metadata": {
            "tags": []
          },
          "execution_count": 382
        }
      ]
    },
    {
      "cell_type": "code",
      "metadata": {
        "id": "D0DfAbXJCW8d",
        "colab_type": "code",
        "outputId": "d98f3bfa-2daf-4957-cd48-c09f9d1320fe",
        "colab": {
          "base_uri": "https://localhost:8080/",
          "height": 521
        }
      },
      "source": [
        "train_test[0][cat_attribs].isna().sum().sort_values(ascending = False)"
      ],
      "execution_count": 0,
      "outputs": [
        {
          "output_type": "execute_result",
          "data": {
            "text/plain": [
              "GarageCond       81\n",
              "GarageFinish     81\n",
              "GarageType       81\n",
              "BsmtExposure     38\n",
              "BsmtFinType2     38\n",
              "BsmtQual         37\n",
              "BsmtCond         37\n",
              "BsmtFinType1     37\n",
              "MasVnrType        8\n",
              "BldgType          0\n",
              "Condition1        0\n",
              "Neighborhood      0\n",
              "LandSlope         0\n",
              "LotConfig         0\n",
              "LandContour       0\n",
              "LotShape          0\n",
              "Street            0\n",
              "RoofStyle         0\n",
              "SaleCondition     0\n",
              "ExterQual         0\n",
              "ExterCond         0\n",
              "Foundation        0\n",
              "SaleType          0\n",
              "HeatingQC         0\n",
              "CentralAir        0\n",
              "KitchenQual       0\n",
              "Functional        0\n",
              "PavedDrive        0\n",
              "MSZoning          0\n",
              "dtype: int64"
            ]
          },
          "metadata": {
            "tags": []
          },
          "execution_count": 383
        }
      ]
    },
    {
      "cell_type": "code",
      "metadata": {
        "id": "CC00l4x8CdZu",
        "colab_type": "code",
        "outputId": "6ef675e6-62ec-49b3-f25f-085014c834b5",
        "colab": {
          "base_uri": "https://localhost:8080/",
          "height": 244
        }
      },
      "source": [
        "train_test[0][cat_attribs].head()"
      ],
      "execution_count": 0,
      "outputs": [
        {
          "output_type": "execute_result",
          "data": {
            "text/html": [
              "<div>\n",
              "<style scoped>\n",
              "    .dataframe tbody tr th:only-of-type {\n",
              "        vertical-align: middle;\n",
              "    }\n",
              "\n",
              "    .dataframe tbody tr th {\n",
              "        vertical-align: top;\n",
              "    }\n",
              "\n",
              "    .dataframe thead th {\n",
              "        text-align: right;\n",
              "    }\n",
              "</style>\n",
              "<table border=\"1\" class=\"dataframe\">\n",
              "  <thead>\n",
              "    <tr style=\"text-align: right;\">\n",
              "      <th></th>\n",
              "      <th>MSZoning</th>\n",
              "      <th>Street</th>\n",
              "      <th>LotShape</th>\n",
              "      <th>LandContour</th>\n",
              "      <th>LotConfig</th>\n",
              "      <th>LandSlope</th>\n",
              "      <th>Neighborhood</th>\n",
              "      <th>Condition1</th>\n",
              "      <th>BldgType</th>\n",
              "      <th>RoofStyle</th>\n",
              "      <th>...</th>\n",
              "      <th>HeatingQC</th>\n",
              "      <th>CentralAir</th>\n",
              "      <th>KitchenQual</th>\n",
              "      <th>Functional</th>\n",
              "      <th>GarageType</th>\n",
              "      <th>GarageFinish</th>\n",
              "      <th>GarageCond</th>\n",
              "      <th>PavedDrive</th>\n",
              "      <th>SaleType</th>\n",
              "      <th>SaleCondition</th>\n",
              "    </tr>\n",
              "  </thead>\n",
              "  <tbody>\n",
              "    <tr>\n",
              "      <th>0</th>\n",
              "      <td>RL</td>\n",
              "      <td>Pave</td>\n",
              "      <td>Reg</td>\n",
              "      <td>Lvl</td>\n",
              "      <td>Inside</td>\n",
              "      <td>Gtl</td>\n",
              "      <td>CollgCr</td>\n",
              "      <td>Norm</td>\n",
              "      <td>1Fam</td>\n",
              "      <td>Gable</td>\n",
              "      <td>...</td>\n",
              "      <td>Ex</td>\n",
              "      <td>Y</td>\n",
              "      <td>Gd</td>\n",
              "      <td>Typ</td>\n",
              "      <td>Attchd</td>\n",
              "      <td>RFn</td>\n",
              "      <td>TA</td>\n",
              "      <td>Y</td>\n",
              "      <td>WD</td>\n",
              "      <td>Normal</td>\n",
              "    </tr>\n",
              "    <tr>\n",
              "      <th>1</th>\n",
              "      <td>RL</td>\n",
              "      <td>Pave</td>\n",
              "      <td>Reg</td>\n",
              "      <td>Lvl</td>\n",
              "      <td>FR2</td>\n",
              "      <td>Gtl</td>\n",
              "      <td>Veenker</td>\n",
              "      <td>Feedr</td>\n",
              "      <td>1Fam</td>\n",
              "      <td>Gable</td>\n",
              "      <td>...</td>\n",
              "      <td>Ex</td>\n",
              "      <td>Y</td>\n",
              "      <td>TA</td>\n",
              "      <td>Typ</td>\n",
              "      <td>Attchd</td>\n",
              "      <td>RFn</td>\n",
              "      <td>TA</td>\n",
              "      <td>Y</td>\n",
              "      <td>WD</td>\n",
              "      <td>Normal</td>\n",
              "    </tr>\n",
              "    <tr>\n",
              "      <th>2</th>\n",
              "      <td>RL</td>\n",
              "      <td>Pave</td>\n",
              "      <td>IR1</td>\n",
              "      <td>Lvl</td>\n",
              "      <td>Inside</td>\n",
              "      <td>Gtl</td>\n",
              "      <td>CollgCr</td>\n",
              "      <td>Norm</td>\n",
              "      <td>1Fam</td>\n",
              "      <td>Gable</td>\n",
              "      <td>...</td>\n",
              "      <td>Ex</td>\n",
              "      <td>Y</td>\n",
              "      <td>Gd</td>\n",
              "      <td>Typ</td>\n",
              "      <td>Attchd</td>\n",
              "      <td>RFn</td>\n",
              "      <td>TA</td>\n",
              "      <td>Y</td>\n",
              "      <td>WD</td>\n",
              "      <td>Normal</td>\n",
              "    </tr>\n",
              "    <tr>\n",
              "      <th>3</th>\n",
              "      <td>RL</td>\n",
              "      <td>Pave</td>\n",
              "      <td>IR1</td>\n",
              "      <td>Lvl</td>\n",
              "      <td>Corner</td>\n",
              "      <td>Gtl</td>\n",
              "      <td>Crawfor</td>\n",
              "      <td>Norm</td>\n",
              "      <td>1Fam</td>\n",
              "      <td>Gable</td>\n",
              "      <td>...</td>\n",
              "      <td>Gd</td>\n",
              "      <td>Y</td>\n",
              "      <td>Gd</td>\n",
              "      <td>Typ</td>\n",
              "      <td>Detchd</td>\n",
              "      <td>Unf</td>\n",
              "      <td>TA</td>\n",
              "      <td>Y</td>\n",
              "      <td>WD</td>\n",
              "      <td>Abnorml</td>\n",
              "    </tr>\n",
              "    <tr>\n",
              "      <th>4</th>\n",
              "      <td>RL</td>\n",
              "      <td>Pave</td>\n",
              "      <td>IR1</td>\n",
              "      <td>Lvl</td>\n",
              "      <td>FR2</td>\n",
              "      <td>Gtl</td>\n",
              "      <td>NoRidge</td>\n",
              "      <td>Norm</td>\n",
              "      <td>1Fam</td>\n",
              "      <td>Gable</td>\n",
              "      <td>...</td>\n",
              "      <td>Ex</td>\n",
              "      <td>Y</td>\n",
              "      <td>Gd</td>\n",
              "      <td>Typ</td>\n",
              "      <td>Attchd</td>\n",
              "      <td>RFn</td>\n",
              "      <td>TA</td>\n",
              "      <td>Y</td>\n",
              "      <td>WD</td>\n",
              "      <td>Normal</td>\n",
              "    </tr>\n",
              "  </tbody>\n",
              "</table>\n",
              "<p>5 rows × 29 columns</p>\n",
              "</div>"
            ],
            "text/plain": [
              "  MSZoning Street LotShape LandContour LotConfig LandSlope Neighborhood  \\\n",
              "0       RL   Pave      Reg         Lvl    Inside       Gtl      CollgCr   \n",
              "1       RL   Pave      Reg         Lvl       FR2       Gtl      Veenker   \n",
              "2       RL   Pave      IR1         Lvl    Inside       Gtl      CollgCr   \n",
              "3       RL   Pave      IR1         Lvl    Corner       Gtl      Crawfor   \n",
              "4       RL   Pave      IR1         Lvl       FR2       Gtl      NoRidge   \n",
              "\n",
              "  Condition1 BldgType RoofStyle  ... HeatingQC CentralAir KitchenQual  \\\n",
              "0       Norm     1Fam     Gable  ...        Ex          Y          Gd   \n",
              "1      Feedr     1Fam     Gable  ...        Ex          Y          TA   \n",
              "2       Norm     1Fam     Gable  ...        Ex          Y          Gd   \n",
              "3       Norm     1Fam     Gable  ...        Gd          Y          Gd   \n",
              "4       Norm     1Fam     Gable  ...        Ex          Y          Gd   \n",
              "\n",
              "  Functional GarageType GarageFinish GarageCond PavedDrive SaleType  \\\n",
              "0        Typ     Attchd          RFn         TA          Y       WD   \n",
              "1        Typ     Attchd          RFn         TA          Y       WD   \n",
              "2        Typ     Attchd          RFn         TA          Y       WD   \n",
              "3        Typ     Detchd          Unf         TA          Y       WD   \n",
              "4        Typ     Attchd          RFn         TA          Y       WD   \n",
              "\n",
              "  SaleCondition  \n",
              "0        Normal  \n",
              "1        Normal  \n",
              "2        Normal  \n",
              "3       Abnorml  \n",
              "4        Normal  \n",
              "\n",
              "[5 rows x 29 columns]"
            ]
          },
          "metadata": {
            "tags": []
          },
          "execution_count": 384
        }
      ]
    },
    {
      "cell_type": "code",
      "metadata": {
        "id": "lGTi8nQN0hgf",
        "colab_type": "code",
        "outputId": "333f5a35-4a85-4915-b4c6-c4d2b28cd184",
        "colab": {
          "base_uri": "https://localhost:8080/",
          "height": 34
        }
      },
      "source": [
        "test_with_Id = train_test[1]\n",
        "test_with_Id.shape"
      ],
      "execution_count": 0,
      "outputs": [
        {
          "output_type": "execute_result",
          "data": {
            "text/plain": [
              "(1459, 66)"
            ]
          },
          "metadata": {
            "tags": []
          },
          "execution_count": 386
        }
      ]
    },
    {
      "cell_type": "code",
      "metadata": {
        "id": "A8lMkze50_ow",
        "colab_type": "code",
        "outputId": "641ce1db-5c54-46f5-d92c-9e0872ae8d05",
        "colab": {
          "base_uri": "https://localhost:8080/",
          "height": 34
        }
      },
      "source": [
        "train_test[0].shape, train_test[1].shape"
      ],
      "execution_count": 0,
      "outputs": [
        {
          "output_type": "execute_result",
          "data": {
            "text/plain": [
              "((1460, 67), (1459, 66))"
            ]
          },
          "metadata": {
            "tags": []
          },
          "execution_count": 387
        }
      ]
    },
    {
      "cell_type": "code",
      "metadata": {
        "id": "vw9_Wsp4st7E",
        "colab_type": "code",
        "colab": {}
      },
      "source": [
        "train_test = [dataset.drop(['Id'], axis = 1) for dataset in train_test]"
      ],
      "execution_count": 0,
      "outputs": []
    },
    {
      "cell_type": "markdown",
      "metadata": {
        "id": "B3rDOiRI6HVu",
        "colab_type": "text"
      },
      "source": [
        "#This is important - quickly define numerical and categorical pipeline for numerical data and categorical data operations"
      ]
    },
    {
      "cell_type": "code",
      "metadata": {
        "id": "Ork17ejG2YJj",
        "colab_type": "code",
        "colab": {}
      },
      "source": [
        "#defining simpleimputer for numerical missing values and onehot encoder for categorical values\n",
        "\n",
        "from sklearn.pipeline import Pipeline\n",
        "from sklearn.preprocessing import StandardScaler\n",
        "from sklearn.impute import SimpleImputer\n",
        "from sklearn.preprocessing import OneHotEncoder\n",
        "\n",
        "num_pipeline = Pipeline([\n",
        "    ('imputer', SimpleImputer(strategy = 'median')),\n",
        "    ('std_scaler', StandardScaler())\n",
        "])\n",
        "\n",
        "cat_pipeline = Pipeline([\n",
        "    ('imputer', SimpleImputer(strategy = 'most_frequent')),\n",
        "    ('cat_onehot', OneHotEncoder(sparse = False),)\n",
        "])"
      ],
      "execution_count": 0,
      "outputs": []
    },
    {
      "cell_type": "markdown",
      "metadata": {
        "id": "KiEKF9qU6o7K",
        "colab_type": "text"
      },
      "source": [
        "#Use columnTransformer to execute full pipeline at once on the datasets, use list comprehension to perform it on both train and test set"
      ]
    },
    {
      "cell_type": "code",
      "metadata": {
        "id": "iO0RPPc26F83",
        "colab_type": "code",
        "colab": {}
      },
      "source": [
        "from sklearn.compose import ColumnTransformer\n",
        "\n",
        "full_pipeline = ColumnTransformer([\n",
        "    ('num', num_pipeline, num_attribs),\n",
        "    ('cat', cat_pipeline, cat_attribs)\n",
        "],remainder='passthrough')\n",
        "\n",
        "train_test_prepared = [full_pipeline.fit_transform(dataset) for dataset in train_test]"
      ],
      "execution_count": 0,
      "outputs": []
    },
    {
      "cell_type": "code",
      "metadata": {
        "id": "65wc9842OT9Z",
        "colab_type": "code",
        "outputId": "a43766d9-1827-493d-8db5-69016714084c",
        "colab": {
          "base_uri": "https://localhost:8080/",
          "height": 34
        }
      },
      "source": [
        "train_test_prepared[0].shape, train_test_prepared[1].shape"
      ],
      "execution_count": 0,
      "outputs": [
        {
          "output_type": "execute_result",
          "data": {
            "text/plain": [
              "((1460, 198), (1459, 197))"
            ]
          },
          "metadata": {
            "tags": []
          },
          "execution_count": 393
        }
      ]
    },
    {
      "cell_type": "code",
      "metadata": {
        "id": "ZCCM28llP6fS",
        "colab_type": "code",
        "outputId": "439b8cf0-3405-4179-c411-8657dbdf5159",
        "colab": {
          "base_uri": "https://localhost:8080/",
          "height": 34
        }
      },
      "source": [
        "len(full_pipeline.transformers_[0][2]), len(full_pipeline.transformers_[1][2])"
      ],
      "execution_count": 0,
      "outputs": [
        {
          "output_type": "execute_result",
          "data": {
            "text/plain": [
              "(36, 29)"
            ]
          },
          "metadata": {
            "tags": []
          },
          "execution_count": 394
        }
      ]
    },
    {
      "cell_type": "code",
      "metadata": {
        "id": "cqBSUMYsrh6H",
        "colab_type": "code",
        "outputId": "d1619d0a-e514-4379-90b3-658b347e5812",
        "colab": {
          "base_uri": "https://localhost:8080/",
          "height": 34
        }
      },
      "source": [
        "len(full_pipeline.transformers_[1][1].named_steps['cat_onehot'].get_feature_names())"
      ],
      "execution_count": 0,
      "outputs": [
        {
          "output_type": "execute_result",
          "data": {
            "text/plain": [
              "161"
            ]
          },
          "metadata": {
            "tags": []
          },
          "execution_count": 395
        }
      ]
    },
    {
      "cell_type": "code",
      "metadata": {
        "id": "7Z-YivqrUNpG",
        "colab_type": "code",
        "outputId": "3b092083-a93b-4200-a88a-9568fd750c84",
        "colab": {
          "base_uri": "https://localhost:8080/",
          "height": 72
        }
      },
      "source": [
        "#perform stratified K fold split\n",
        "\n",
        "from sklearn.model_selection import StratifiedKFold\n",
        "\n",
        "X = train_test_prepared[0][:,:197]\n",
        "#X = X.toarray()\n",
        "y = train_test_prepared[0][:,197]\n",
        "\n",
        "skf = StratifiedKFold(n_splits=2, random_state=2, shuffle=False)\n",
        "\n",
        "for train_index, val_index in skf.split(X, y):\n",
        "  #print(\"TRAIN:\", train_index, \"val:\", val_index)\n",
        "  X_train, X_val = X[train_index], X[val_index]\n",
        "  y_train, y_val = y[train_index], y[val_index]\n"
      ],
      "execution_count": 0,
      "outputs": [
        {
          "output_type": "stream",
          "text": [
            "/usr/local/lib/python3.6/dist-packages/sklearn/model_selection/_split.py:652: Warning: The least populated class in y has only 1 members, which is too few. The minimum number of members in any class cannot be less than n_splits=2.\n",
            "  % (min_groups, self.n_splits)), Warning)\n"
          ],
          "name": "stderr"
        }
      ]
    },
    {
      "cell_type": "markdown",
      "metadata": {
        "id": "vlMzRTtP1O3Q",
        "colab_type": "text"
      },
      "source": [
        "#Building a dense neural network"
      ]
    },
    {
      "cell_type": "code",
      "metadata": {
        "id": "9cStc33s0qSr",
        "colab_type": "code",
        "colab": {}
      },
      "source": [
        "#Let's build a very simple denese sequential network using keras\n",
        "import tensorflow as tf\n",
        "from keras.models import Sequential\n",
        "#from keras.layers import Dense\n",
        "from tensorflow import keras\n",
        "from tensorflow.keras import layers\n",
        "\n",
        "# model = Sequential([\n",
        "#     Dense(10, activation ='relu', input_shape =(10,)),\n",
        "#     Dense(10, activation = 'relu'),\n",
        "#     Dense(10, activation = 'relu'),\n",
        "#     Dense(10, activation = 'relu'),\n",
        "#     Dense(1)\n",
        "# ])\n",
        "\n",
        "def build_model():\n",
        "  model = keras.Sequential([\n",
        "      layers.Dense(1000, activation = tf.nn.relu, input_shape =(197,)),\n",
        "      layers.Dense(1000, activation = tf.nn.relu),\n",
        "      layers.Dense(1000, activation = tf.nn.relu),\n",
        "      layers.Dense(500, activation = tf.nn.relu),\n",
        "      layers.Dense(1)\n",
        "  ])\n",
        "  \n",
        "  optimizer = tf.keras.optimizers.RMSprop(0.001)\n",
        "  \n",
        "  model.compile(loss = 'mse',\n",
        "               optimizer = optimizer,\n",
        "               metrics =['mae', 'mse'])\n",
        "  return model"
      ],
      "execution_count": 0,
      "outputs": []
    },
    {
      "cell_type": "code",
      "metadata": {
        "id": "tXjzBZVCw-U5",
        "colab_type": "code",
        "colab": {}
      },
      "source": [
        "def build_model_with_dropout():\n",
        "  model_dropout = keras.Sequential([\n",
        "      layers.Dense(1000, activation = tf.nn.relu, input_shape =(197,)),\n",
        "      layers.Dropout(0.3),\n",
        "      layers.Dense(1000, activation = tf.nn.relu),\n",
        "      layers.Dropout(0.3),\n",
        "      layers.Dense(1000, activation = tf.nn.relu),\n",
        "      layers.Dropout(0.3),\n",
        "      layers.Dense(500, activation = tf.nn.relu),\n",
        "      layers.Dense(1)\n",
        "  ])\n",
        "  \n",
        "  optimizer = tf.keras.optimizers.RMSprop(0.001)\n",
        "  \n",
        "  model_dropout.compile(loss = 'mse',\n",
        "               optimizer = optimizer,\n",
        "               metrics =['mae', 'mse'])\n",
        "  return model_dropout"
      ],
      "execution_count": 0,
      "outputs": []
    },
    {
      "cell_type": "code",
      "metadata": {
        "id": "Mz2wOsXLa5tJ",
        "colab_type": "code",
        "colab": {}
      },
      "source": [
        "#model with regularization\n",
        "from keras import regularizers\n",
        "\n",
        "def build_model_reg_drop():\n",
        "  model_reg_drop = keras.Sequential([\n",
        "      layers.Dense(1000, activation = tf.nn.relu, \n",
        "                   kernel_regularizer = regularizers.l2(0.01), input_shape =(197,)),\n",
        "      layers.Dropout(0.3),\n",
        "      layers.Dense(1000, activation = tf.nn.relu,\n",
        "                  kernel_regularizer = regularizers.l2(0.01)),\n",
        "      layers.Dropout(0.3),\n",
        "      layers.Dense(1000, activation = tf.nn.relu,\n",
        "                  kernel_regularizer = regularizers.l2(0.01)),\n",
        "      layers.Dropout(0.3),\n",
        "      layers.Dense(1000, activation = tf.nn.relu,\n",
        "                  kernel_regularizer = regularizers.l2(0.01)),\n",
        "      layers.Dense(1)\n",
        "  ])\n",
        "  \n",
        "  optimizer = tf.keras.optimizers.RMSprop(0.001)\n",
        "  \n",
        "  model_reg_drop.compile(loss = 'mse',\n",
        "               optimizer = optimizer,\n",
        "               metrics =['mae', 'mse'])\n",
        "  return model_reg_drop"
      ],
      "execution_count": 0,
      "outputs": []
    },
    {
      "cell_type": "code",
      "metadata": {
        "id": "mOTKRR2M4K8o",
        "colab_type": "code",
        "colab": {}
      },
      "source": [
        "model = build_model()"
      ],
      "execution_count": 0,
      "outputs": []
    },
    {
      "cell_type": "code",
      "metadata": {
        "id": "rIzBZPkgxUqc",
        "colab_type": "code",
        "colab": {}
      },
      "source": [
        "#to run with the dropout\n",
        "model_dropout = build_model_with_dropout()"
      ],
      "execution_count": 0,
      "outputs": []
    },
    {
      "cell_type": "code",
      "metadata": {
        "id": "vvmX3hHmcZvc",
        "colab_type": "code",
        "colab": {}
      },
      "source": [
        "#to run with l2 reg and dropout\n",
        "model_reg_drop = build_model_reg_drop()\n"
      ],
      "execution_count": 0,
      "outputs": []
    },
    {
      "cell_type": "code",
      "metadata": {
        "id": "9rthr1tS56Bh",
        "colab_type": "code",
        "outputId": "82e5cb9f-3cff-4bf0-ed69-8366649ca0c1",
        "colab": {
          "base_uri": "https://localhost:8080/",
          "height": 311
        }
      },
      "source": [
        "model.summary()"
      ],
      "execution_count": 0,
      "outputs": [
        {
          "output_type": "stream",
          "text": [
            "_________________________________________________________________\n",
            "Layer (type)                 Output Shape              Param #   \n",
            "=================================================================\n",
            "dense_55 (Dense)             (None, 1000)              198000    \n",
            "_________________________________________________________________\n",
            "dense_56 (Dense)             (None, 1000)              1001000   \n",
            "_________________________________________________________________\n",
            "dense_57 (Dense)             (None, 1000)              1001000   \n",
            "_________________________________________________________________\n",
            "dense_58 (Dense)             (None, 500)               500500    \n",
            "_________________________________________________________________\n",
            "dense_59 (Dense)             (None, 1)                 501       \n",
            "=================================================================\n",
            "Total params: 2,701,001\n",
            "Trainable params: 2,701,001\n",
            "Non-trainable params: 0\n",
            "_________________________________________________________________\n"
          ],
          "name": "stdout"
        }
      ]
    },
    {
      "cell_type": "code",
      "metadata": {
        "id": "439KiTCWyKTt",
        "colab_type": "code",
        "outputId": "c48f7ec5-c334-437b-e78a-c66911782779",
        "colab": {
          "base_uri": "https://localhost:8080/",
          "height": 415
        }
      },
      "source": [
        "model_dropout.summary()"
      ],
      "execution_count": 0,
      "outputs": [
        {
          "output_type": "stream",
          "text": [
            "_________________________________________________________________\n",
            "Layer (type)                 Output Shape              Param #   \n",
            "=================================================================\n",
            "dense_60 (Dense)             (None, 1000)              198000    \n",
            "_________________________________________________________________\n",
            "dropout_24 (Dropout)         (None, 1000)              0         \n",
            "_________________________________________________________________\n",
            "dense_61 (Dense)             (None, 1000)              1001000   \n",
            "_________________________________________________________________\n",
            "dropout_25 (Dropout)         (None, 1000)              0         \n",
            "_________________________________________________________________\n",
            "dense_62 (Dense)             (None, 1000)              1001000   \n",
            "_________________________________________________________________\n",
            "dropout_26 (Dropout)         (None, 1000)              0         \n",
            "_________________________________________________________________\n",
            "dense_63 (Dense)             (None, 500)               500500    \n",
            "_________________________________________________________________\n",
            "dense_64 (Dense)             (None, 1)                 501       \n",
            "=================================================================\n",
            "Total params: 2,701,001\n",
            "Trainable params: 2,701,001\n",
            "Non-trainable params: 0\n",
            "_________________________________________________________________\n"
          ],
          "name": "stdout"
        }
      ]
    },
    {
      "cell_type": "code",
      "metadata": {
        "id": "HWNvKJ2Lc_Q4",
        "colab_type": "code",
        "outputId": "0a56c000-5107-4523-b124-94b883e3c286",
        "colab": {
          "base_uri": "https://localhost:8080/",
          "height": 415
        }
      },
      "source": [
        "model_reg_drop.summary()"
      ],
      "execution_count": 0,
      "outputs": [
        {
          "output_type": "stream",
          "text": [
            "_________________________________________________________________\n",
            "Layer (type)                 Output Shape              Param #   \n",
            "=================================================================\n",
            "dense_70 (Dense)             (None, 1000)              198000    \n",
            "_________________________________________________________________\n",
            "dropout_30 (Dropout)         (None, 1000)              0         \n",
            "_________________________________________________________________\n",
            "dense_71 (Dense)             (None, 1000)              1001000   \n",
            "_________________________________________________________________\n",
            "dropout_31 (Dropout)         (None, 1000)              0         \n",
            "_________________________________________________________________\n",
            "dense_72 (Dense)             (None, 1000)              1001000   \n",
            "_________________________________________________________________\n",
            "dropout_32 (Dropout)         (None, 1000)              0         \n",
            "_________________________________________________________________\n",
            "dense_73 (Dense)             (None, 1000)              1001000   \n",
            "_________________________________________________________________\n",
            "dense_74 (Dense)             (None, 1)                 1001      \n",
            "=================================================================\n",
            "Total params: 3,202,001\n",
            "Trainable params: 3,202,001\n",
            "Non-trainable params: 0\n",
            "_________________________________________________________________\n"
          ],
          "name": "stdout"
        }
      ]
    },
    {
      "cell_type": "code",
      "metadata": {
        "id": "QubNsEe7dHfa",
        "colab_type": "code",
        "outputId": "39f0a1ea-2c34-47df-f9ca-5bb08d9d775c",
        "colab": {
          "base_uri": "https://localhost:8080/",
          "height": 141
        }
      },
      "source": [
        "from timeit import default_timer as timer\n",
        "\n",
        "class PrintDot(keras.callbacks.Callback):\n",
        "  def on_epoch_end(self, epoch, logs):\n",
        "    if epoch % 100 ==0: print('')\n",
        "    print('.', end='')\n",
        "\n",
        "start = timer()\n",
        "\n",
        "history_reg_drop = model_reg_drop.fit(X_train,y_train,\n",
        "                batch_size=12, epochs =100, verbose =0,\n",
        "                validation_data=(X_val,y_val),\n",
        "                callbacks = [PrintDot()])\n",
        "\n",
        "end = timer()\n",
        "\n",
        "model_reg_drop_time = end - start\n",
        "print('model_time = ',  model_reg_drop_time)"
      ],
      "execution_count": 0,
      "outputs": [
        {
          "output_type": "stream",
          "text": [
            "\n",
            "....................................................................................................\n",
            "....................................................................................................\n",
            "....................................................................................................\n",
            "....................................................................................................\n",
            "....................................................................................................model_time =  171.54485083799955\n"
          ],
          "name": "stdout"
        }
      ]
    },
    {
      "cell_type": "code",
      "metadata": {
        "id": "RHU4tOmn7gR4",
        "colab_type": "code",
        "outputId": "d1f2ca98-f1c7-49ec-847d-d9fbacd6a542",
        "colab": {
          "base_uri": "https://localhost:8080/",
          "height": 557
        }
      },
      "source": [
        "import matplotlib.pyplot as plt\n",
        "\n",
        "def plot_history(history):\n",
        "  hist = pd.DataFrame(history.history)\n",
        "  hist['epoch'] = history.epoch\n",
        "  \n",
        "  plt.figure()\n",
        "  plt.xlabel('Epoch')\n",
        "  plt.ylabel('Mean abs Error($)')\n",
        "  \n",
        "  plt.plot(hist['epoch'], hist['mean_absolute_error'],\n",
        "          label ='Train Error')\n",
        "  \n",
        "  plt.plot(hist['epoch'], hist['val_mean_absolute_error'],\n",
        "          label = 'Val Error')\n",
        "  \n",
        "  plt.legend()\n",
        "  #plt.ylim([0,5])\n",
        "  \n",
        "  \n",
        "  plt.figure()\n",
        "  plt.xlabel('Epoch')\n",
        "  plt.ylabel('Mean sqaured error($)')\n",
        "  \n",
        "  plt.plot(hist['epoch'], hist['mean_squared_error'],\n",
        "          label = 'Train Error')\n",
        "  plt.plot(hist['epoch'], hist['val_mean_squared_error'],\n",
        "          label = 'Val Error')\n",
        "  \n",
        "  plt.legend()\n",
        "  \n",
        "plot_history(history_dropout)  "
      ],
      "execution_count": 0,
      "outputs": [
        {
          "output_type": "display_data",
          "data": {
            "image/png": "[encoded data removed]",
            "text/plain": [
              "<Figure size 432x288 with 1 Axes>"
            ]
          },
          "metadata": {
            "tags": []
          }
        },
        {
          "output_type": "display_data",
          "data": {
            "image/png": "[encoded data removed]",
            "text/plain": [
              "<Figure size 432x288 with 1 Axes>"
            ]
          },
          "metadata": {
            "tags": []
          }
        }
      ]
    },
    {
      "cell_type": "code",
      "metadata": {
        "id": "2OatdUNDZwjZ",
        "colab_type": "code",
        "outputId": "b780e43e-256c-428d-db90-54a33e2daa06",
        "colab": {
          "base_uri": "https://localhost:8080/",
          "height": 557
        }
      },
      "source": [
        "import matplotlib.pyplot as plt\n",
        "\n",
        "def plot_history(history):\n",
        "  \"\"\"plots the MAE and MSE per epoch, uncomment the lines to play with x and y limits if needed\"\"\"\n",
        "  hist = pd.DataFrame(history.history)\n",
        "  hist['epoch'] = history.epoch\n",
        "  \n",
        "  plt.figure()\n",
        "  #plt.title('With droput(0.3)')\n",
        "  plt.xlabel('Epoch')\n",
        "  plt.ylabel('Mean abs Error($)')\n",
        "  \n",
        "  plt.plot(hist['epoch'], hist['mean_absolute_error'],\n",
        "          label ='Train Error')\n",
        "  \n",
        "  plt.plot(hist['epoch'], hist['val_mean_absolute_error'],\n",
        "          label = 'Val Error')\n",
        "  \n",
        "  plt.legend()\n",
        "  #plt.xlim([0,70])\n",
        "  #plt.ylim([0,5])\n",
        "  \n",
        "  \n",
        "  plt.figure()\n",
        "  #plt.title('with dropout(0.3)')\n",
        "  plt.xlabel('Epoch')\n",
        "  plt.ylabel('Mean sqaured error($)')\n",
        "  \n",
        "  plt.plot(hist['epoch'], hist['mean_squared_error'],\n",
        "          label = 'Train Error')\n",
        "  plt.plot(hist['epoch'], hist['val_mean_squared_error'],\n",
        "          label = 'Val Error')\n",
        "  \n",
        "  plt.legend()\n",
        "  #plt.xlim([0,70])\n",
        "  #plt.ylim([0,2])\n",
        "  \n",
        "plot_history(history_dropout)  "
      ],
      "execution_count": 0,
      "outputs": [
        {
          "output_type": "display_data",
          "data": {
            "image/png": "[encoded data removed]",
            "text/plain": [
              "<Figure size 432x288 with 1 Axes>"
            ]
          },
          "metadata": {
            "tags": []
          }
        },
        {
          "output_type": "display_data",
          "data": {
            "image/png": "[encoded data removed]",
            "text/plain": [
              "<Figure size 432x288 with 1 Axes>"
            ]
          },
          "metadata": {
            "tags": []
          }
        }
      ]
    },
    {
      "cell_type": "code",
      "metadata": {
        "id": "xGZ3sGXujW2Z",
        "colab_type": "code",
        "outputId": "fae66c8b-4a19-49ca-d295-7cae4118b415",
        "colab": {
          "base_uri": "https://localhost:8080/",
          "height": 556
        }
      },
      "source": [
        "plot_history(history_reg_drop)  "
      ],
      "execution_count": 0,
      "outputs": [
        {
          "output_type": "display_data",
          "data": {
            "image/png": "[encoded data removed]",
            "text/plain": [
              "<Figure size 432x288 with 1 Axes>"
            ]
          },
          "metadata": {
            "tags": []
          }
        },
        {
          "output_type": "display_data",
          "data": {
            "image/png": "[encoded data removed]",
            "text/plain": [
              "<Figure size 432x288 with 1 Axes>"
            ]
          },
          "metadata": {
            "tags": []
          }
        }
      ]
    },
    {
      "cell_type": "code",
      "metadata": {
        "id": "Widw1jzNj8ec",
        "colab_type": "code",
        "outputId": "8dcaa7c7-0ac9-4f0e-965a-481b309a7a29",
        "colab": {
          "base_uri": "https://localhost:8080/",
          "height": 590
        }
      },
      "source": [
        "#lets do early stopping now and see how it goes\n",
        "early_stop = keras.callbacks.EarlyStopping(monitor = 'val_loss',  patience = 20)\n",
        "\n",
        "\n",
        "history_reg_drop_early = model_reg_drop.fit(X_train,y_train,\n",
        "                batch_size=12, epochs =500, verbose =0,\n",
        "                validation_data=(X_val,y_val), callbacks = [early_stop, PrintDot()])\n",
        "\n",
        "plot_history(history_reg_drop_early)"
      ],
      "execution_count": 0,
      "outputs": [
        {
          "output_type": "stream",
          "text": [
            "\n",
            "....................."
          ],
          "name": "stdout"
        },
        {
          "output_type": "display_data",
          "data": {
            "image/png": "[encoded data removed]",
            "text/plain": [
              "<Figure size 432x288 with 1 Axes>"
            ]
          },
          "metadata": {
            "tags": []
          }
        },
        {
          "output_type": "display_data",
          "data": {
            "image/png": "[encoded data removed]",
            "text/plain": [
              "<Figure size 432x288 with 1 Axes>"
            ]
          },
          "metadata": {
            "tags": []
          }
        }
      ]
    },
    {
      "cell_type": "code",
      "metadata": {
        "id": "9E2yj7vClLEV",
        "colab_type": "code",
        "colab": {}
      },
      "source": [
        "#time to predict\n",
        "X_test = train_test_prepared[1]\n",
        "\n",
        "test_predictions = model_reg_drop.predict(X_test)\n",
        "\n",
        "test_predictions = test_predictions.reshape(len(test_predictions),)"
      ],
      "execution_count": 0,
      "outputs": []
    },
    {
      "cell_type": "code",
      "metadata": {
        "id": "wLrv-5gepf2J",
        "colab_type": "code",
        "colab": {}
      },
      "source": [
        "preds = pd.DataFrame({\n",
        "    \"Id\":test_with_Id['Id'],\n",
        "    'SalePrice':test_predictions})"
      ],
      "execution_count": 0,
      "outputs": []
    },
    {
      "cell_type": "code",
      "metadata": {
        "id": "UjJ1t0ms1npG",
        "colab_type": "code",
        "outputId": "206579e9-5330-4786-d1e7-c2829564350d",
        "colab": {
          "base_uri": "https://localhost:8080/",
          "height": 198
        }
      },
      "source": [
        "preds.head()"
      ],
      "execution_count": 0,
      "outputs": [
        {
          "output_type": "execute_result",
          "data": {
            "text/html": [
              "<div>\n",
              "<style scoped>\n",
              "    .dataframe tbody tr th:only-of-type {\n",
              "        vertical-align: middle;\n",
              "    }\n",
              "\n",
              "    .dataframe tbody tr th {\n",
              "        vertical-align: top;\n",
              "    }\n",
              "\n",
              "    .dataframe thead th {\n",
              "        text-align: right;\n",
              "    }\n",
              "</style>\n",
              "<table border=\"1\" class=\"dataframe\">\n",
              "  <thead>\n",
              "    <tr style=\"text-align: right;\">\n",
              "      <th></th>\n",
              "      <th>Id</th>\n",
              "      <th>SalePrice</th>\n",
              "    </tr>\n",
              "  </thead>\n",
              "  <tbody>\n",
              "    <tr>\n",
              "      <th>0</th>\n",
              "      <td>1461</td>\n",
              "      <td>125464.703125</td>\n",
              "    </tr>\n",
              "    <tr>\n",
              "      <th>1</th>\n",
              "      <td>1462</td>\n",
              "      <td>165724.312500</td>\n",
              "    </tr>\n",
              "    <tr>\n",
              "      <th>2</th>\n",
              "      <td>1463</td>\n",
              "      <td>195608.671875</td>\n",
              "    </tr>\n",
              "    <tr>\n",
              "      <th>3</th>\n",
              "      <td>1464</td>\n",
              "      <td>209495.765625</td>\n",
              "    </tr>\n",
              "    <tr>\n",
              "      <th>4</th>\n",
              "      <td>1465</td>\n",
              "      <td>208414.265625</td>\n",
              "    </tr>\n",
              "  </tbody>\n",
              "</table>\n",
              "</div>"
            ],
            "text/plain": [
              "     Id      SalePrice\n",
              "0  1461  125464.703125\n",
              "1  1462  165724.312500\n",
              "2  1463  195608.671875\n",
              "3  1464  209495.765625\n",
              "4  1465  208414.265625"
            ]
          },
          "metadata": {
            "tags": []
          },
          "execution_count": 414
        }
      ]
    },
    {
      "cell_type": "code",
      "metadata": {
        "id": "Ne_shEOu1xq4",
        "colab_type": "code",
        "colab": {}
      },
      "source": [
        "preds.to_csv('submission_house_price_DNN.csv', index = False)"
      ],
      "execution_count": 0,
      "outputs": []
    },
    {
      "cell_type": "code",
      "metadata": {
        "id": "y45XmNPd7nVa",
        "colab_type": "code",
        "colab": {}
      },
      "source": [
        "final = pd.read_csv('submission_house_price_DNN.csv')"
      ],
      "execution_count": 0,
      "outputs": []
    },
    {
      "cell_type": "code",
      "metadata": {
        "id": "ezDSRYbe7tSz",
        "colab_type": "code",
        "outputId": "b501084e-04a3-4c19-cda2-5f8d0ff5ba48",
        "colab": {
          "base_uri": "https://localhost:8080/",
          "height": 52
        }
      },
      "source": [
        "!ls #check if the file is saved and ready to submit"
      ],
      "execution_count": 0,
      "outputs": [
        {
          "output_type": "stream",
          "text": [
            "data_description.txt   submission_house_price_DNN.csv  train.csv\n",
            "sample_submission.csv  test.csv\n"
          ],
          "name": "stdout"
        }
      ]
    }
  ]
}